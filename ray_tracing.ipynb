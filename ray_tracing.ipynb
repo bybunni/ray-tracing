{
 "cells": [
  {
   "cell_type": "markdown",
   "source": [
    "# Ray Tracing in One Weekend _in Python_\n",
    "We will start by following Peter Shirley's excellent C++\n",
    "[_\"Ray Tracing in One Weekend\"_](https://raytracing.github.io/books/RayTracingInOneWeekend.html)\n",
    "book series. Our goal is to write a ray tracer using only the Python standard library.\n",
    "## 1. Writing image files.\n",
    "\n",
    "\n",
    "We write image files in the ppm P3 text based image format.\n",
    "* The first 3 lines contain the format, integer dimensions, and maximum color value.\n",
    "        P3\n",
    "        width height\n",
    "        255\n",
    "* Each pixel must be separated by white space. We will also use a newline for\n",
    "    readability.\n",
    "* Each pixel will is composed of its red, green, and blue components, in that order.\n",
    "* We write pixels sequentially by row ie. left to right, top to bottom.\n",
    "        P3\n",
    "        width height\n",
    "        255\n",
    "        r g b\n",
    "        r g b\n",
    "         ...\n",
    "        r g b"
   ],
   "metadata": {
    "collapsed": false,
    "pycharm": {
     "name": "#%% md\n"
    }
   }
  },
  {
   "cell_type": "code",
   "execution_count": 1,
   "outputs": [],
   "source": [
    "image_width = 256\n",
    "image_height = 256\n",
    "\n",
    "with open(\"images/image.ppm\", \"w\") as image_file:\n",
    "    image_file.write(f\"P3\\n{image_width} {image_height}\\n255\\n\")\n",
    "    for j in range(image_height - 1, 0, -1):\n",
    "        for i in range(image_width):\n",
    "            r = i / (image_width - 1)\n",
    "            g = j / (image_height - 1)\n",
    "            b = 0.25\n",
    "\n",
    "            ir = int(255.999 * r)\n",
    "            ig = int(255.999 * g)\n",
    "            ib = int(255.999 * b)\n",
    "\n",
    "            image_file.write(f\"{ir} {ig} {ib}\\n\")"
   ],
   "metadata": {
    "collapsed": false,
    "pycharm": {
     "name": "#%%\n"
    }
   }
  },
  {
   "cell_type": "markdown",
   "source": [
    "Our PPM file can now be viewed in many popular image applications, like GIMP. For the sake\n",
    "of completion we read our image back in and necessarily leverage some libraries to\n",
    "display it in this notebook."
   ],
   "metadata": {
    "collapsed": false
   }
  },
  {
   "cell_type": "code",
   "execution_count": 2,
   "outputs": [
    {
     "data": {
      "text/plain": "<PIL.Image.Image image mode=RGB size=256x256 at 0x1ABFF50FF40>",
      "image/png": "[encoded data removed]"
     },
     "metadata": {},
     "output_type": "display_data"
    }
   ],
   "source": [
    "import numpy as np\n",
    "from IPython.display import display\n",
    "from PIL import Image\n",
    "\n",
    "def ppm_to_image(filename):\n",
    "    with open(filename, \"r\") as ppmfile:\n",
    "        ppm = ppmfile.readlines()\n",
    "\n",
    "    width, height = [int(x) for x in ppm[1].split(\" \")]\n",
    "    image = np.zeros((height, width, 3))\n",
    "    # we read in row major\n",
    "    pixel_colors = ppm[3:]\n",
    "\n",
    "    index = 0\n",
    "    for i in range(height-1):\n",
    "        for j in range(width):\n",
    "            pixel_color = [int(c) for c in pixel_colors[index].split(\" \")]\n",
    "            image[i, j] = np.array(pixel_color)\n",
    "            index += 1\n",
    "\n",
    "    return Image.fromarray(image.astype(\"uint8\"))\n",
    "\n",
    "image = ppm_to_image(\"images/image.ppm\")\n",
    "display(image)"
   ],
   "metadata": {
    "collapsed": false,
    "pycharm": {
     "name": "#%%\n"
    }
   }
  },
  {
   "cell_type": "markdown",
   "source": [
    "###### _Figure 1. We read back in and display our image to ensure our output is as intended._"
   ],
   "metadata": {
    "collapsed": false,
    "pycharm": {
     "name": "#%% md\n"
    }
   }
  },
  {
   "cell_type": "code",
   "execution_count": 3,
   "outputs": [],
   "source": [
    "import math\n",
    "\n",
    "\n",
    "class Vec3(object):\n",
    "    def __init__(self, x, y, z):\n",
    "        self.x, self.y, self.z = x, y, z\n",
    "    \n",
    "    def __iter__(self):\n",
    "        yield from (self.x, self.y, self.z)\n",
    "    \n",
    "    def __neg__(self):\n",
    "        return Vec3(*[-c for c in self])\n",
    "    \n",
    "    def __add__(self, rhs):\n",
    "        if isinstance(rhs, Vec3):\n",
    "            return Vec3(*[l + r for l, r in zip(self, rhs)])\n",
    "        return Vec3(*[c + rhs for c in self])\n",
    "    \n",
    "    __radd__ = __add__\n",
    "    \n",
    "    def __sub__(self, rhs):\n",
    "        return self + -rhs\n",
    "\n",
    "    def __mul__(self, rhs):\n",
    "        if isinstance(rhs, Vec3):\n",
    "            return Vec3(*[l * r for l, r in zip(self, rhs)])\n",
    "        return Vec3(*[c * rhs for c in self])\n",
    "    \n",
    "    __rmul__ = __mul__\n",
    "    \n",
    "    def __truediv__(self, rhs):\n",
    "        return Vec3(*[c / rhs for c in self])\n",
    "\n",
    "    def __str__(self):\n",
    "        return str(self)\n",
    "\n",
    "    def length(self):\n",
    "        return math.sqrt(self.length_squared())\n",
    "    \n",
    "    def length_squared(self):\n",
    "        return sum([c**2 for c in self])\n",
    "\n",
    "\n",
    "Point3 = Vec3  # 3d point\n",
    "Color = Vec3  # RGB color"
   ],
   "metadata": {
    "collapsed": false,
    "pycharm": {
     "name": "#%%\n"
    }
   }
  },
  {
   "cell_type": "code",
   "execution_count": 4,
   "metadata": {},
   "outputs": [],
   "source": [
    "def dot(lhs, rhs):\n",
    "    assert isinstance(lhs, Vec3) and isinstance(rhs, Vec3), \\\n",
    "        \"Expected two instances of Vec3 as input.\"\n",
    "    return sum(l * r for l, r in zip(lhs, rhs))\n",
    "\n",
    "def cross(lhs, rhs):\n",
    "    assert isinstance(lhs, Vec3) and isinstance(rhs, Vec3), \\\n",
    "        \"Expected two instances of Vec3 as input.\"\n",
    "    return Vec3(lhs.y * rhs.z - lhs.z * rhs.y,\n",
    "                lhs.z * rhs.x - lhs.x * rhs.z,\n",
    "                lhs.x * rhs.y - lhs.y * rhs.x)\n",
    "\n",
    "def unit(vector):\n",
    "    return vector / vector.length()"
   ]
  },
  {
   "cell_type": "markdown",
   "source": [
    "Replacing the relevant lines in our image writing with our new class."
   ],
   "metadata": {
    "collapsed": false,
    "pycharm": {
     "name": "#%% md\n"
    }
   }
  },
  {
   "cell_type": "code",
   "execution_count": 5,
   "metadata": {},
   "outputs": [
    {
     "data": {
      "text/plain": "<PIL.Image.Image image mode=RGB size=256x256 at 0x1ABFF50FB80>",
      "image/png": "[encoded data removed]"
     },
     "metadata": {},
     "output_type": "display_data"
    }
   ],
   "source": [
    "def color_to_int(color):\n",
    "    ir, ig, ib = [int(255.999 * c) for c in color]\n",
    "    return ir, ig, ib\n",
    "\n",
    "image_width = 256\n",
    "image_height = 256\n",
    "\n",
    "with open(\"images/image.ppm\", \"w\") as image_file:\n",
    "    image_file.write(f\"P3\\n{image_width} {image_height}\\n255\\n\")\n",
    "    for j in range(image_height - 1, 0, -1):\n",
    "        for i in range(image_width):\n",
    "            pixel_color = Color(i / (image_width - 1), \n",
    "                                j / (image_height - 1),\n",
    "                                0.25)\n",
    "\n",
    "            ir, ig, ib = color_to_int(pixel_color)\n",
    "\n",
    "            image_file.write(f\"{ir} {ig} {ib}\\n\")\n",
    "\n",
    "image = ppm_to_image(\"images/image.ppm\")\n",
    "display(image)"
   ]
  },
  {
   "cell_type": "markdown",
   "metadata": {},
   "source": [
    "###### _Figure 2. We read back in and display our image to ensure our output is as intended._\n",
    "\n",
    "## 2. Rays\n",
    "\n",
    "The Ray class consists of an origin $\\mathbf{A}$ and a direction $\\mathbf{b}$.\n",
    "$\\mathbf{P}$ is a 3D position along a line. $\\mathbf{P}(t) = \\mathbf{A} + t\\mathbf{b}$\n",
    "is a point $t$ distance from $\\mathbf{A}$ on the line. $+t$ is in front of\n",
    "$\\mathbf{A}$, $-t$ is behind it. The $+t$ portion of the line is referred to as a\n",
    "'half-line' or 'ray'."
   ]
  },
  {
   "cell_type": "code",
   "execution_count": 6,
   "metadata": {},
   "outputs": [],
   "source": [
    "class Ray(object):\n",
    "    def __init__(self, origin, direction):\n",
    "        self.origin = origin\n",
    "        self.direction = direction\n",
    "    \n",
    "    def at(self, scalar):\n",
    "        return self.origin + scalar * self.direction"
   ]
  },
  {
   "cell_type": "markdown",
   "metadata": {},
   "source": [
    "### Sending Rays into the Scene\n",
    "1. calculate the ray from camera -> pixel\n",
    "2. determine which objects the ray intersects\n",
    "3. compute a color for the intersection point"
   ]
  },
  {
   "cell_type": "code",
   "execution_count": 7,
   "metadata": {},
   "outputs": [],
   "source": [
    "def ray_color(ray):\n",
    "    unit_direction = unit(ray.direction)\n",
    "    t = 0.5 * (unit_direction.y + 1.0)\n",
    "    return (1 - t) * Color(1.0, 1.0, 1.0) + t*Color(0.5, 0.7, 1.0)"
   ]
  },
  {
   "cell_type": "code",
   "execution_count": 8,
   "metadata": {},
   "outputs": [],
   "source": [
    "# Image\n",
    "aspect_ratio = 16 / 9\n",
    "image_width = 400\n",
    "image_height = int(image_width / aspect_ratio)\n",
    "\n",
    "# Camera\n",
    "viewport_height = 2.0\n",
    "viewport_width = aspect_ratio * viewport_height\n",
    "focal_length = 1.0\n",
    "\n",
    "origin = Point3(0, 0, 0)\n",
    "horizontal = Vec3(viewport_width, 0, 0)\n",
    "vertical = Vec3(0, viewport_height, 0)\n",
    "\n",
    "lower_left_corner = origin - horizontal/2 - vertical/2 - Vec3(0, 0, focal_length)\n",
    "\n",
    "filename = \"images/blue_to_white.ppm\"\n",
    "\n",
    "# Render\n",
    "def render_scene_to_ppm(image_width, image_height, origin, lower_left_corner,\n",
    "                        horizontal, vertical, ray_color, filename):\n",
    "\n",
    "    with open(filename, \"w\") as image_file:\n",
    "       image_file.write(f\"P3\\n{image_width} {image_height}\\n255\\n\")\n",
    "       for j in range(image_height - 1, 0, -1):\n",
    "           for i in range(image_width):\n",
    "               u = i / (image_width - 1)\n",
    "               v = j / (image_height - 1)\n",
    "               r = Ray(origin, lower_left_corner + u * horizontal + v * vertical - origin)\n",
    "               pixel_color = ray_color(r)\n",
    "               ir, ig, ib = color_to_int(pixel_color)\n",
    "\n",
    "               image_file.write(f\"{ir} {ig} {ib}\\n\")\n",
    "\n",
    "render_scene_to_ppm(image_width, image_height, origin, lower_left_corner,\n",
    "                    horizontal, vertical, ray_color, filename)"
   ]
  },
  {
   "cell_type": "code",
   "execution_count": 9,
   "metadata": {
    "pycharm": {
     "name": "#%%\n"
    }
   },
   "outputs": [
    {
     "data": {
      "text/plain": "<PIL.Image.Image image mode=RGB size=400x225 at 0x1ABFF961820>",
      "image/png": "[encoded data removed]"
     },
     "metadata": {},
     "output_type": "display_data"
    }
   ],
   "source": [
    "image = ppm_to_image(filename)\n",
    "display(image)"
   ]
  },
  {
   "cell_type": "markdown",
   "source": [
    "###### _Figure 3. We color pixels by the y component of our ray to realize a gradient._"
   ],
   "metadata": {
    "collapsed": false
   }
  },
  {
   "cell_type": "markdown",
   "source": [
    "## 3. Adding Objects\n",
    "### Spheres\n",
    "Recall the equation for a sphere, centered at the origin, with radius $r$ is\n",
    "$x^2 + y^2 + z^2 = r^2$. If a point $(x, y, z)$ is _on_ the sphere it will satisfy\n",
    "this equation. If a point $(x, y, z)$ is _inside_ the sphere then\n",
    "$x^2 + y^2 +z^2 < r^2$. If a given point is _outside_ the sphere then\n",
    "$x^2 + y^2 +z^2 > r^2$.\n",
    "\n",
    "If the sphere center is at $\\mathbf{C} = (C_x, C_y, C_z)$ the equation will be\n",
    "$(x-C_x)^2 + (y-C_y)^2 + (z-C_z)^2 = r^2$. Equivalently, in vector notation\n",
    "$$(\\mathbf{P-C}) \\cdot (\\mathbf{P-C}) = (x-C_x)^2 + (y-C_y)^2 + (z-C_z)^2 = r^2$$\n",
    "\n",
    "We want to know if our ray $\\mathbf{P}(t) = \\mathbf{A} + t\\mathbf{b}$ ever hits the\n",
    "sphere; that is, if there is any $t$ for which $\\mathbf{P}(t)$ satisfies the\n",
    "equation of our sphere\n",
    "$$(\\mathbf{P}(t)-\\mathbf{C}) \\cdot (\\mathbf{P}(t)-\\mathbf{C}) = r^2$$\n",
    "\n",
    "or expanding $\\mathbf{P}(t)$,\n",
    "\n",
    "$$(\\mathbf{A} + t\\mathbf{b} - \\mathbf{C}) \\cdot (\\mathbf{A} + t\\mathbf{b} - \\mathbf{C}) = r^2$$\n",
    "\n",
    "Expanding and setting equal to $0$\n",
    "\n",
    "$t^2\\mathbf{b \\cdot b} + 2t\\mathbf{b} \\cdot (\\mathbf{A-C})+(\\mathbf{A-C})\\cdot (\\mathbf{A-C}) - r^2 = 0$\n",
    "\n",
    "A quadratic! We can then utilize the discriminant $\\Delta = b^2 - 4ac$ to easily determine the\n",
    "number of real solutions ie. _intersections_ for a given ray $\\mathbf{P}(t)$.\n",
    "\n",
    "The simplest approach is to color all intersections uniformly."
   ],
   "metadata": {
    "collapsed": false,
    "pycharm": {
     "name": "#%% md\n"
    }
   }
  },
  {
   "cell_type": "code",
   "execution_count": 10,
   "outputs": [],
   "source": [
    "def hit_sphere(center, radius, ray):\n",
    "    co = ray.origin - center\n",
    "    a = dot(ray.direction, ray.direction)\n",
    "    b = 2 * dot(ray.direction, co)\n",
    "    c = dot(co, co) - radius**2\n",
    "    discriminant = b**2 - 4 * a * c\n",
    "\n",
    "    return True if discriminant > 0 else False\n",
    "\n",
    "def ray_color(ray):\n",
    "    if hit_sphere(Point3(0, 0, -1), 0.5, ray):\n",
    "        color = Color(0.25, 0, 0.75)  # purple\n",
    "    else:\n",
    "        unit_direction = unit(ray.direction)\n",
    "        t = 0.5 * (unit_direction.y + 1)\n",
    "        color = (1 - t) * Color(1, 1, 1) + t * Color(0.5, 0.7, 1)\n",
    "\n",
    "    return color"
   ],
   "metadata": {
    "collapsed": false,
    "pycharm": {
     "name": "#%%\n"
    }
   }
  },
  {
   "cell_type": "code",
   "execution_count": 11,
   "outputs": [
    {
     "data": {
      "text/plain": "<PIL.Image.Image image mode=RGB size=400x225 at 0x1ABFF4CC700>",
      "image/png": "[encoded data removed]"
     },
     "metadata": {},
     "output_type": "display_data"
    }
   ],
   "source": [
    "filename = \"images/purple_sphere.ppm\"\n",
    "render_scene_to_ppm(image_width, image_height, origin, lower_left_corner,\n",
    "                    horizontal, vertical, ray_color, filename)\n",
    "\n",
    "image = ppm_to_image(filename)\n",
    "display(image)"
   ],
   "metadata": {
    "collapsed": false,
    "pycharm": {
     "name": "#%%\n"
    }
   }
  },
  {
   "cell_type": "markdown",
   "source": [
    "###### _Figure 4. We color our sphere uniformly._"
   ],
   "metadata": {
    "collapsed": false,
    "pycharm": {
     "name": "#%% md\n"
    }
   }
  },
  {
   "cell_type": "markdown",
   "source": [
    "## 4. Surface Normals\n",
    "### Shading\n",
    "Given our intersection solution $t$ we can calculate the surface normal and map the\n",
    "$x, y, z$ components to $r, g, b$ to shade our sphere."
   ],
   "metadata": {
    "collapsed": false,
    "pycharm": {
     "name": "#%% md\n"
    }
   }
  },
  {
   "cell_type": "code",
   "execution_count": 12,
   "outputs": [],
   "source": [
    "def hit_sphere(center, radius, ray):\n",
    "    co = ray.origin - center\n",
    "    a = dot(ray.direction, ray.direction)\n",
    "    b = 2 * dot(ray.direction, co)\n",
    "    c = dot(co, co) - radius**2\n",
    "    discriminant = b**2 - 4 * a * c\n",
    "\n",
    "    return False if discriminant < 0 else (-b - math.sqrt(discriminant)) / 2 * a\n",
    "\n",
    "\n",
    "def ray_color(ray):\n",
    "    center, radius = Point3(0, 0, -1), 0.5\n",
    "    t = hit_sphere(center, radius, ray)\n",
    "    if t:\n",
    "        # map x, y, z of the surface normal to r, g, b\n",
    "        normal = Vec3(*unit(ray.at(t) - center))\n",
    "        color = 0.5 * Color(normal.x + 1, normal.y + 1, normal.z + 1)\n",
    "    else:\n",
    "        unit_direction = unit(ray.direction)\n",
    "        t = 0.5 * (unit_direction.y + 1)\n",
    "        color = (1 - t) * Color(1, 1, 1) + t * Color(0.5, 0.7, 1)\n",
    "\n",
    "    return color"
   ],
   "metadata": {
    "collapsed": false,
    "pycharm": {
     "name": "#%%\n"
    }
   }
  },
  {
   "cell_type": "code",
   "execution_count": 13,
   "outputs": [
    {
     "data": {
      "text/plain": "<PIL.Image.Image image mode=RGB size=400x225 at 0x1ABFF4D26D0>",
      "image/png": "[encoded data removed]"
     },
     "metadata": {},
     "output_type": "display_data"
    }
   ],
   "source": [
    "filename = \"images/rainbow_sphere.ppm\"\n",
    "render_scene_to_ppm(image_width, image_height, origin, lower_left_corner,\n",
    "                    horizontal, vertical, ray_color, filename)\n",
    "\n",
    "image = ppm_to_image(filename)\n",
    "display(image)"
   ],
   "metadata": {
    "collapsed": false,
    "pycharm": {
     "name": "#%%\n"
    }
   }
  },
  {
   "cell_type": "markdown",
   "source": [
    "###### _Figure 5. We shade our sphere according to the surface normal at each intersection._"
   ],
   "metadata": {
    "collapsed": false
   }
  }
 ],
 "metadata": {
  "kernelspec": {
   "display_name": "Python 3",
   "language": "python",
   "name": "python3"
  },
  "language_info": {
   "codemirror_mode": {
    "name": "ipython",
    "version": 3
   },
   "file_extension": ".py",
   "mimetype": "text/x-python",
   "name": "python",
   "nbconvert_exporter": "python",
   "pygments_lexer": "ipython3",
   "version": "3.9.1"
  }
 },
 "nbformat": 4,
 "nbformat_minor": 2
}